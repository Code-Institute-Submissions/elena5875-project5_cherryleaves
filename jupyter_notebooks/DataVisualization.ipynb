{
 "cells": [
  {
   "cell_type": "code",
   "execution_count": null,
   "id": "91552e34-a951-4aa9-83e6-b46ac4b9654b",
   "metadata": {},
   "outputs": [],
   "source": []
  }
 ],
 "metadata": {
  "kernelspec": {
   "display_name": "",
   "name": ""
  },
  "language_info": {
   "name": ""
  }
 },
 "nbformat": 4,
 "nbformat_minor": 5
}

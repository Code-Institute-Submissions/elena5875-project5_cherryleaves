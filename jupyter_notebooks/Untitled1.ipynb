{
 "cells": [
  {
   "cell_type": "markdown",
   "id": "61be4eb6-9fd4-4a95-9c1f-1282a5725131",
   "metadata": {},
   "source": [
    "# MODELLING AND EVALUATION NOTEBOOK"
   ]
  },
  {
   "cell_type": "markdown",
   "id": "ec4ae094-9d6c-461e-9b82-6f3228e0e7b2",
   "metadata": {},
   "source": [
    "## Objectives\n",
    "The client is interested in predicting if a cherry leaf is healthy or contains powdery mildew."
   ]
  },
  {
   "cell_type": "markdown",
   "id": "69ee6112-3e4a-4598-85f3-b99ab4c5d179",
   "metadata": {},
   "source": [
    "## INPUTS"
   ]
  },
  {
   "cell_type": "markdown",
   "id": "abc27261-9bdc-46c2-b5ca-9dcc5c0922f3",
   "metadata": {},
   "source": [
    "project5_cherryleaves/jupyter_notebooks/inputs/train project5_cherryleaves/jupyter_notebooks/inputs/test project5_cherryleaves/jupyter_notebooks/inputs/validation image shape embeddings"
   ]
  },
  {
   "cell_type": "markdown",
   "id": "4f0baa00-8d9e-4290-b1cd-7aa5d54fc66f",
   "metadata": {},
   "source": [
    "## OUTPUTS"
   ]
  },
  {
   "cell_type": "markdown",
   "id": "62577b7f-6564-4e82-ac82-e752d398d071",
   "metadata": {},
   "source": [
    "## INPUTS"
   ]
  },
  {
   "cell_type": "markdown",
   "id": "d47a96a7-b6c5-4132-93d7-635dbb3b55d2",
   "metadata": {},
   "source": [
    "Images distribution plot in train, validation, and test set\n",
    "Image augmentation\n",
    "Class indices to change prediction inference in labels\n",
    "Machine learning model creation and training\n",
    "Save model\n",
    "Learning curve plot for model performance\n",
    "Model evaluation on pickle file\n",
    "Prediction on the random image file"
   ]
  },
  {
   "cell_type": "markdown",
   "id": "b2dc5c72-3159-49ef-97a8-e18c359aa520",
   "metadata": {},
   "source": [
    "## Additional Comments | Insights | Conclusions"
   ]
  },
  {
   "cell_type": "markdown",
   "id": "c2c956b3-01ba-4904-9044-15ba6f1e4ba8",
   "metadata": {},
   "source": []
  },
  {
   "cell_type": "markdown",
   "id": "db6941fd-5fe5-47f2-84ec-5557e9c7e8bb",
   "metadata": {},
   "source": [
    "## Set Working directory"
   ]
  },
  {
   "cell_type": "code",
   "execution_count": null,
   "id": "cc1cbd23-9524-47a5-a1c8-83085818a81d",
   "metadata": {},
   "outputs": [],
   "source": [
    "import os\n",
    "\n",
    "cwd = os.getcwd()\n",
    "print(\"Current working directory:\", cwd)\n"
   ]
  },
  {
   "cell_type": "code",
   "execution_count": null,
   "id": "d54f385d-3ffb-42f1-924f-755461c4a4da",
   "metadata": {},
   "outputs": [],
   "source": [
    "work_dir = os.getcwd()\n",
    "work_dir"
   ]
  },
  {
   "cell_type": "markdown",
   "id": "4a7472b9-529e-47e6-8755-35aa08cfaf4c",
   "metadata": {},
   "source": [
    "## Set input directories"
   ]
  },
  {
   "cell_type": "code",
   "execution_count": null,
   "id": "077ec8a9-75a6-40a6-9ff5-aca0c93ce4de",
   "metadata": {},
   "outputs": [],
   "source": [
    "my_data_dir = '/workspace/project5_cherryleaves/jupyter_notebooks/inputs'\n",
    "train_path = my_data_dir + '/train'\n",
    "val_path = my_data_dir + '/validation'\n",
    "test_path = my_data_dir + '/test'\n",
    "\n",
    "print(\"Train directory:\", train_path)\n",
    "print(\"Validation directory:\", val_path)\n",
    "print(\"Test directory:\", test_path)"
   ]
  },
  {
   "cell_type": "markdown",
   "id": "43d0b228-fd74-46bd-a88a-aeb1e6fe2bfa",
   "metadata": {},
   "source": [
    "## Number of images in train, test and validation data"
   ]
  },
  {
   "cell_type": "markdown",
   "id": "5923ebf2-edbb-41b5-9f3d-7ac900a0bd08",
   "metadata": {},
   "source": [
    "## Importing necessary libraries and modules"
   ]
  },
  {
   "cell_type": "code",
   "execution_count": null,
   "id": "18cdf6ae-d01a-4fa8-8039-deb444aca52e",
   "metadata": {},
   "outputs": [],
   "source": [
    "import pandas as pd\n",
    "import seaborn as sns\n",
    "import matplotlib.pyplot as plt\n",
    "import os\n",
    "\n",
    "# Define the directory containing the data\n",
    "my_data_dir = '/workspace/project5_cherryleaves/jupyter_notebooks/inputs'\n",
    "\n",
    "# Define the labels\n",
    "labels = ['healthy', 'powdery_mildew']\n",
    "\n",
    "\n"
   ]
  },
  {
   "cell_type": "markdown",
   "id": "7bbf719d-71c1-46ee-b652-7211476d6d42",
   "metadata": {},
   "source": [
    "## Creating an empty DataFrame to store label frequencies"
   ]
  },
  {
   "cell_type": "code",
   "execution_count": null,
   "id": "0132214b-72f5-4e12-9d5e-aeaf2313c97a",
   "metadata": {},
   "outputs": [],
   "source": [
    "df_freq = pd.DataFrame([])"
   ]
  },
  {
   "cell_type": "markdown",
   "id": "59ccab95-7188-4657-91ec-ae0cf5aeb882",
   "metadata": {},
   "source": [
    "## Counting frequencies of labels in different sets"
   ]
  },
  {
   "cell_type": "code",
   "execution_count": null,
   "id": "2a070d22-845b-4670-9621-fd5b1b159f06",
   "metadata": {},
   "outputs": [],
   "source": [
    "for folder in ['train', 'validation', 'test']:\n",
    "    for label in labels:\n",
    "        # Count the number of images in the current label folder\n",
    "        num_images = len(os.listdir(os.path.join(my_data_dir, folder, label)))\n",
    "        \n",
    "        # Append the label frequency to the DataFrame\n",
    "        df_freq = df_freq.append(pd.Series({\n",
    "            'Set': folder,\n",
    "            'Label': label,\n",
    "            'Frequency': num_images\n",
    "        }), ignore_index=True)\n",
    "        \n",
    "        # Print the frequency for each label in each set\n",
    "        print(f\"* {folder} - {label}: {num_images} images\")\n"
   ]
  },
  {
   "cell_type": "markdown",
   "id": "8ed0e5d0-9ae7-4656-b764-569a8f6793d5",
   "metadata": {},
   "source": [
    "## Plotting the label distribution"
   ]
  },
  {
   "cell_type": "code",
   "execution_count": null,
   "id": "96b3cd9c-10ca-4ae4-b692-ba0b0f5f80f4",
   "metadata": {},
   "outputs": [],
   "source": [
    "sns.set_style(\"whitegrid\")\n",
    "plt.figure(figsize=(8, 5))\n",
    "sns.barplot(data=df_freq, x='Set', y='Frequency', hue='Label')\n"
   ]
  },
  {
   "cell_type": "markdown",
   "id": "4a99dc41-c618-4e2b-8f82-563be1e8f6f6",
   "metadata": {},
   "source": [
    "## Saving the plot and defining the directory where the plot should be saved"
   ]
  },
  {
   "cell_type": "code",
   "execution_count": null,
   "id": "4b19cdcc-3f3e-40a6-8881-f33bfb828e0f",
   "metadata": {},
   "outputs": [],
   "source": [
    "save_dir = '/workspace/project5_cherryleaves/jupyter_notebooks/outputs/modelling'\n",
    "\n",
    "# Create the 'modelling' folder if it doesn't exist\n",
    "if not os.path.exists(save_dir):\n",
    "    os.makedirs(save_dir)\n",
    "\n",
    "# Save the plot\n",
    "plt.savefig(f'{save_dir}/labels_distribution.png', bbox_inches='tight', dpi=150)\n",
    "plt.show()"
   ]
  },
  {
   "cell_type": "markdown",
   "id": "e51faada-755c-48f4-9604-ea0951b7804e",
   "metadata": {},
   "source": [
    "# Image Data Augmentation"
   ]
  },
  {
   "cell_type": "markdown",
   "id": "0bc13e70-c421-421e-9133-d3f007c552de",
   "metadata": {},
   "source": [
    "## Importing necessary libraries and modules"
   ]
  },
  {
   "cell_type": "code",
   "execution_count": null,
   "id": "c45fc56e-6692-41c8-983b-1df20e1fd5a2",
   "metadata": {},
   "outputs": [],
   "source": [
    "from tensorflow.keras.preprocessing.image import ImageDataGenerator\n",
    "import matplotlib.pyplot as plt\n",
    "import joblib\n",
    "import os\n"
   ]
  },
  {
   "cell_type": "markdown",
   "id": "aad0ae92-aadb-4d8e-8aa4-68909f4f7ae5",
   "metadata": {},
   "source": [
    "## Define batch size and image augmentation parameters"
   ]
  },
  {
   "cell_type": "code",
   "execution_count": null,
   "id": "21afef7f-7b52-4e4b-aadf-104fb6cbc79a",
   "metadata": {},
   "outputs": [],
   "source": [
    "batch_size = 20\n",
    "image_shape = (256, 256, 3)\n",
    "\n",
    "augmented_image_data = ImageDataGenerator(\n",
    "    rotation_range=20,\n",
    "    width_shift_range=0.10, \n",
    "    height_shift_range=0.10,\n",
    "    shear_range=0.1,\n",
    "    zoom_range=0.1,\n",
    "    horizontal_flip=True,\n",
    "    vertical_flip=True,\n",
    "    fill_mode='nearest',\n",
    "    rescale=1./255\n",
    ")\n"
   ]
  },
  {
   "cell_type": "markdown",
   "id": "01a1e167-a491-477f-becf-3e6cdbc70f7f",
   "metadata": {},
   "source": [
    "## Define image generators for validation and test sets without augmentation"
   ]
  },
  {
   "cell_type": "code",
   "execution_count": null,
   "id": "235221b7-6184-4f32-9b14-5b2b3177dfa2",
   "metadata": {},
   "outputs": [],
   "source": [
    "validation_image_data = ImageDataGenerator(rescale=1./255)\n",
    "test_image_data = ImageDataGenerator(rescale=1./255)\n",
    "\n",
    "validation_set = validation_image_data.flow_from_directory(\n",
    "    val_path,\n",
    "    target_size=image_shape[:2],\n",
    "    color_mode='rgb',\n",
    "    batch_size=batch_size,\n",
    "    class_mode='binary',\n",
    "    shuffle=False\n",
    ")\n",
    "\n",
    "test_set = test_image_data.flow_from_directory(\n",
    "    test_path,\n",
    "    target_size=image_shape[:2],\n",
    "    color_mode='rgb',\n",
    "    batch_size=batch_size,\n",
    "    class_mode='binary',\n",
    "    shuffle=False\n",
    ")\n"
   ]
  },
  {
   "cell_type": "markdown",
   "id": "3bf92230-be4d-4de7-bf72-49167f196f4f",
   "metadata": {},
   "source": [
    "## Generate augmented training set"
   ]
  },
  {
   "cell_type": "code",
   "execution_count": null,
   "id": "7e942e06-5dfb-4510-8c08-b889e2b35fa9",
   "metadata": {},
   "outputs": [],
   "source": [
    "augmented_image_data = ImageDataGenerator(\n",
    "    rotation_range=20,\n",
    "    width_shift_range=0.1,\n",
    "    height_shift_range=0.1,\n",
    "    shear_range=0.1,\n",
    "    zoom_range=0.1,\n",
    "    horizontal_flip=True,\n",
    "    vertical_flip=True,\n",
    "    fill_mode='nearest',\n",
    "    rescale=1./255\n",
    ")\n"
   ]
  },
  {
   "cell_type": "markdown",
   "id": "14803de4-6af1-4a74-980d-b248ec1987b8",
   "metadata": {},
   "source": []
  },
  {
   "cell_type": "code",
   "execution_count": null,
   "id": "d18713b2-a08b-4373-a49a-b8bd3430b592",
   "metadata": {},
   "outputs": [],
   "source": [
    "my_data_dir = '/workspace/project5_cherryleaves/jupyter_notebooks/inputs'\n",
    "train_path = os.path.join(my_data_dir, 'train')\n",
    "\n",
    "train_set = augmented_image_data.flow_from_directory(\n",
    "    train_path,\n",
    "    target_size=image_shape[:2],\n",
    "    color_mode='rgb',\n",
    "    batch_size=batch_size,\n",
    "    class_mode='binary',\n",
    "    shuffle=True\n",
    ")\n"
   ]
  },
  {
   "cell_type": "markdown",
   "id": "183264e3-7c62-4718-a8e6-5f3a0e7d7662",
   "metadata": {},
   "source": [
    "## Print class indices"
   ]
  },
  {
   "cell_type": "code",
   "execution_count": null,
   "id": "13a7ab96-3043-44c0-be3f-e5a1c2eb5d33",
   "metadata": {},
   "outputs": [],
   "source": [
    "print(\"Train Set Class Indices:\", train_set.class_indices)\n",
    "print(\"Validation Set Class Indices:\", validation_set.class_indices)\n",
    "print(\"Test Set Class Indices:\", test_set.class_indices)\n"
   ]
  },
  {
   "cell_type": "markdown",
   "id": "0e7b9eaf-acde-46fa-8991-b5ac7f25d684",
   "metadata": {},
   "source": [
    "## Visualize sample images"
   ]
  },
  {
   "cell_type": "code",
   "execution_count": null,
   "id": "e9d24945-3284-46e0-a722-c2c4e96a9c51",
   "metadata": {},
   "outputs": [],
   "source": [
    "def visualize_sample_images(data_generator, num_samples=3):\n",
    "    class_labels = ['healthy', 'powdery mildew']  \n",
    "    for label_idx, label in enumerate(class_labels):\n",
    "        print(f\"Sample images for class '{label}':\")\n",
    "        for _ in range(num_samples):\n",
    "            img, _ = data_generator.next()\n",
    "            print(\"Image Shape:\", img.shape)\n",
    "            plt.imshow(img[0])\n",
    "            plt.title(label)\n",
    "            plt.show()\n",
    "\n",
    "# Visualize sample images for training, validation, and test sets\n",
    "visualize_sample_images(train_set)\n",
    "visualize_sample_images(validation_set)\n",
    "visualize_sample_images(test_set)\n"
   ]
  },
  {
   "cell_type": "markdown",
   "id": "aa0ce6a3-8a57-47b9-bd26-61c389dd65cc",
   "metadata": {},
   "source": []
  },
  {
   "cell_type": "code",
   "execution_count": null,
   "id": "69379df0-c799-493d-90cb-5b91e5d1bfc5",
   "metadata": {},
   "outputs": [],
   "source": [
    "save_dir = '/workspace/project5_cherryleaves/jupyter_notebooks/outputs/image_augmentation'\n",
    "if not os.path.exists(save_dir):\n",
    "    os.makedirs(save_dir)\n",
    "\n",
    "joblib.dump(value=train_set.class_indices, filename=os.path.join(save_dir, 'class_indices.pkl'))\n"
   ]
  },
  {
   "cell_type": "markdown",
   "id": "e229d02f-9505-4153-91e9-7307fbdd8185",
   "metadata": {},
   "source": [
    "MODEL CREATION"
   ]
  },
  {
   "cell_type": "markdown",
   "id": "1f0b611f-0904-4cf4-9688-e9a5eefc4287",
   "metadata": {},
   "source": [
    "MODEL CREATION"
   ]
  },
  {
   "cell_type": "code",
   "execution_count": null,
   "id": "e85961c7-8bbe-42d4-a659-5786a8725f9b",
   "metadata": {},
   "outputs": [],
   "source": [
    "import tensorflow as tf\n",
    "from tensorflow.keras.models import Sequential\n",
    "from tensorflow.keras.layers import Conv2D, MaxPooling2D, Flatten, Dense, Dropout\n",
    "from tensorflow.keras.callbacks import EarlyStopping\n",
    "from tensorflow.keras.preprocessing.image import ImageDataGenerator\n",
    "import numpy as np\n",
    "import os\n",
    "import matplotlib.pyplot as plt\n",
    "import seaborn as sns"
   ]
  },
  {
   "cell_type": "markdown",
   "id": "e77308f1-4db6-4ed9-b13d-68ad76b8fa1d",
   "metadata": {},
   "source": []
  },
  {
   "cell_type": "code",
   "execution_count": null,
   "id": "cc81c0b4-3989-45cf-a4d2-4a8427f1a5a1",
   "metadata": {},
   "outputs": [],
   "source": [
    "image_shape = (256, 256, 3)  \n",
    "batch_size = 20  \n"
   ]
  },
  {
   "cell_type": "markdown",
   "id": "0918b1ff-18f1-4d1f-bf4f-089a9a928494",
   "metadata": {},
   "source": []
  },
  {
   "cell_type": "code",
   "execution_count": null,
   "id": "5c7e06a9-a440-48a5-ae76-6ce161104a6f",
   "metadata": {},
   "outputs": [],
   "source": [
    "def create_tf_model():\n",
    "    print(\"Creating TensorFlow model...\")\n",
    "    model = Sequential()\n",
    "    model.add(Conv2D(filters=32, kernel_size=(3,3), input_shape=image_shape, activation='relu'))\n",
    "    model.add(MaxPooling2D(pool_size=(2, 2)))\n",
    "    model.add(Conv2D(filters=64, kernel_size=(3,3), input_shape=image_shape, activation='relu'))\n",
    "    model.add(MaxPooling2D(pool_size=(2, 2)))\n",
    "    model.add(Conv2D(filters=64, kernel_size=(3,3), input_shape=image_shape, activation='relu'))\n",
    "    model.add(MaxPooling2D(pool_size=(2, 2)))\n",
    "    model.add(Flatten())\n",
    "    model.add(Dense(128, activation='relu'))\n",
    "    model.add(Dropout(0.5))\n",
    "    model.add(Dense(2, activation='softmax'))  # Two classes: powdery mildew and healthy\n",
    "    model.compile(loss='categorical_crossentropy', optimizer='adam', metrics=['accuracy'])\n",
    "    print(\"Model created successfully.\")\n",
    "    return model\n"
   ]
  },
  {
   "cell_type": "markdown",
   "id": "95d947cb-9d2a-4dd8-8bac-c371e61423a0",
   "metadata": {},
   "source": []
  },
  {
   "cell_type": "code",
   "execution_count": null,
   "id": "e3a83813-e832-44c6-9d92-38da37ee51be",
   "metadata": {},
   "outputs": [],
   "source": [
    "print(\"Model Summary:\")\n",
    "create_tf_model().summary()\n"
   ]
  },
  {
   "cell_type": "markdown",
   "id": "1f7293e8-3596-4efd-b48b-667b746c30c2",
   "metadata": {},
   "source": []
  },
  {
   "cell_type": "code",
   "execution_count": null,
   "id": "e90dd586-4e87-446a-b8d8-8452e88d2e3f",
   "metadata": {},
   "outputs": [],
   "source": [
    "early_stop = EarlyStopping(monitor='val_loss', patience=3)\n"
   ]
  },
  {
   "cell_type": "markdown",
   "id": "5c1eea48-ecf6-4810-9429-a6a1e0aaa67d",
   "metadata": {},
   "source": []
  },
  {
   "cell_type": "code",
   "execution_count": null,
   "id": "007d1b83-880a-4155-ace2-1b0c4a6548f1",
   "metadata": {},
   "outputs": [],
   "source": [
    "print(\"\\nLoading data generators...\")\n",
    "train_datagen = ImageDataGenerator(\n",
    "    rotation_range=20,\n",
    "    width_shift_range=0.10, \n",
    "    height_shift_range=0.10,\n",
    "    shear_range=0.1,\n",
    "    zoom_range=0.1,\n",
    "    horizontal_flip=True,\n",
    "    vertical_flip=True,\n",
    "    fill_mode='nearest',\n",
    "    rescale=1./255\n",
    ")\n",
    "\n",
    "train_set = train_datagen.flow_from_directory(\n",
    "    train_path,\n",
    "    target_size=image_shape[:2],\n",
    "    color_mode='rgb',\n",
    "    batch_size=batch_size,\n",
    "    class_mode='categorical',  \n",
    "    shuffle=True\n",
    ")\n",
    "\n",
    "validation_set = ImageDataGenerator(rescale=1./255).flow_from_directory(\n",
    "    val_path,\n",
    "    target_size=image_shape[:2],\n",
    "    color_mode='rgb',\n",
    "    batch_size=batch_size,\n",
    "    class_mode='categorical',  \n",
    "    shuffle=False\n",
    ")\n",
    "print(\"Data generators loaded successfully.\")\n"
   ]
  },
  {
   "cell_type": "markdown",
   "id": "76f935e4-5519-48ed-8d5b-98b3efd120d0",
   "metadata": {},
   "source": []
  },
  {
   "cell_type": "code",
   "execution_count": null,
   "id": "6e697b68-18a9-43a6-962b-96791b83bd97",
   "metadata": {},
   "outputs": [],
   "source": [
    "print(\"\\nTraining the model...\")\n",
    "model = create_tf_model()\n",
    "history = model.fit(\n",
    "    train_set,\n",
    "    epochs=25,\n",
    "    steps_per_epoch=len(train_set.classes) // batch_size,\n",
    "    validation_data=validation_set,\n",
    "    callbacks=[early_stop],\n",
    "    verbose=1\n",
    ")\n",
    "print(\"Model training completed.\")"
   ]
  },
  {
   "cell_type": "markdown",
   "id": "05bc8f6c-ae99-4884-b0ca-a860b3691b04",
   "metadata": {},
   "source": []
  },
  {
   "cell_type": "code",
   "execution_count": null,
   "id": "81133e0e-3331-46a0-bb68-a4e41958bb9a",
   "metadata": {},
   "outputs": [],
   "source": [
    "print(\"\\nSaving the model...\")\n",
    "model.save('outputs/v1/cherry_leaves_model.keras')\n",
    "print(\"Model saved successfully.\")\n"
   ]
  },
  {
   "cell_type": "markdown",
   "id": "ec352ca2-315b-4eca-8ec7-257f06fd3839",
   "metadata": {},
   "source": []
  },
  {
   "cell_type": "code",
   "execution_count": null,
   "id": "00da2496-b583-4280-ad75-cafae687310b",
   "metadata": {},
   "outputs": [],
   "source": [
    "import pandas as pd\n",
    "\n",
    "print(\"\\nPlotting model training losses...\")\n",
    "losses = pd.DataFrame(history.history)\n",
    "sns.set_style(\"whitegrid\")\n",
    "losses[['loss', 'val_loss']].plot(style='.-')\n",
    "plt.title(\"Loss\")\n",
    "plt.savefig('outputs/v1/model_training_losses.png', bbox_inches='tight', dpi=150)\n",
    "plt.show()\n"
   ]
  },
  {
   "cell_type": "markdown",
   "id": "80a3dfd7-68de-4587-9168-db241cf319ee",
   "metadata": {},
   "source": []
  },
  {
   "cell_type": "code",
   "execution_count": null,
   "id": "c7bcf955-79b4-4b01-ae84-788be11fb246",
   "metadata": {},
   "outputs": [],
   "source": [
    "print(\"\\nPlotting model training accuracy...\")\n",
    "losses[['accuracy', 'val_accuracy']].plot(style='.-')\n",
    "plt.title(\"Accuracy\")\n",
    "plt.savefig('outputs/v1/model_training_acc.png', bbox_inches='tight', dpi=150)\n",
    "plt.show()\n"
   ]
  },
  {
   "cell_type": "markdown",
   "id": "b6761827-a1db-4855-b2b6-15d627712c65",
   "metadata": {},
   "source": []
  },
  {
   "cell_type": "code",
   "execution_count": null,
   "id": "2d61da31-4076-450f-9ce7-005c0e9e5da2",
   "metadata": {},
   "outputs": [],
   "source": [
    "print(\"\\nLoading a saved model for prediction...\")\n",
    "model = tf.keras.models.load_model('outputs/v1/cherry_leaves_model.h5')\n",
    "print(\"Model loaded successfully.\")\n",
    "\n"
   ]
  },
  {
   "cell_type": "markdown",
   "id": "e1e73cb2-c9f3-4639-8aa1-3d7d1a6d634b",
   "metadata": {},
   "source": []
  },
  {
   "cell_type": "code",
   "execution_count": null,
   "id": "7f760fbb-ea19-439a-a369-dbe240ca66fa",
   "metadata": {},
   "outputs": [],
   "source": [
    "from tensorflow.keras.preprocessing import image\n",
    "\n",
    "labels = [\"healthy\", \"powdery_mildew\"]\n",
    "\n",
    "pointer = 66 \n",
    "label = labels[0]  # Assuming \"healthy\" is the first class in your labels list\n",
    "\n",
    "pil_image = image.load_img(\n",
    "    os.path.join(test_path, label, os.listdir(os.path.join(test_path, label))[pointer]),\n",
    "    target_size=image_shape,\n",
    "    color_mode='rgb'\n",
    ")\n",
    "print(f'Image shape: {pil_image.size}, Image mode: {pil_image.mode}')\n",
    "pil_image\n",
    "\n",
    "# Convert image to array and prepare for prediction\n",
    "print(\"\\nConverting image to array and preparing for prediction...\")\n",
    "my_image = image.img_to_array(pil_image)\n",
    "my_image = np.expand_dims(my_image, axis=0) / 255\n",
    "print(\"Image converted and prepared for prediction successfully.\")\n",
    "\n",
    "# Predict class probabilities\n",
    "print(\"\\nPredicting class probabilities...\")\n",
    "pred_proba = model.predict(my_image)[0]  \n",
    "predicted_class_index = np.argmax(pred_proba)\n",
    "predicted_class = labels[predicted_class_index]\n",
    "pred_probability = pred_proba[predicted_class_index]\n",
    "\n",
    "print(f\"Predicted Probability: {pred_probability}\")\n",
    "print(f\"Predicted Class: {predicted_class}\")\n"
   ]
  },
  {
   "cell_type": "markdown",
   "id": "1f26f76c-c790-473b-991e-0e63264595c7",
   "metadata": {},
   "source": []
  },
  {
   "cell_type": "code",
   "execution_count": null,
   "id": "fea80110-a44f-40d9-b926-5d9c87b2e798",
   "metadata": {},
   "outputs": [],
   "source": [
    "print(\"\\nConverting image to array and preparing for prediction...\")\n",
    "my_image = image.img_to_array(pil_image)\n",
    "my_image = np.expand_dims(my_image, axis=0) / 255\n",
    "print(\"Image converted and prepared for prediction successfully.\")\n"
   ]
  },
  {
   "cell_type": "markdown",
   "id": "29ba6778-58d2-4d6e-b4c2-8b3de7bf6bcf",
   "metadata": {},
   "source": []
  },
  {
   "cell_type": "code",
   "execution_count": null,
   "id": "876117ff-2635-499f-ac8d-3bb18457f022",
   "metadata": {},
   "outputs": [],
   "source": [
    "print(\"\\nPredicting class probabilities...\")\n",
    "pred_proba = model.predict(my_image)[0]  \n",
    "predicted_class_index = np.argmax(pred_proba)\n",
    "predicted_class = labels[predicted_class_index]\n",
    "pred_probability = pred_proba[predicted_class_index]\n",
    "\n",
    "print(f\"Predicted Probability: {pred_probability}\")\n",
    "print(f\"Predicted Class: {predicted_class}\")\n"
   ]
  },
  {
   "cell_type": "markdown",
   "id": "131942ba-b374-44a2-84f8-6627eb94cd18",
   "metadata": {},
   "source": []
  },
  {
   "cell_type": "code",
   "execution_count": null,
   "id": "16d7d509-286c-437b-b6c5-873f63738c5e",
   "metadata": {},
   "outputs": [],
   "source": [
    "!git status"
   ]
  },
  {
   "cell_type": "code",
   "execution_count": null,
   "id": "03eef1c2-5f4d-4423-86fd-5048c1d90787",
   "metadata": {},
   "outputs": [],
   "source": [
    "!git add ."
   ]
  },
  {
   "cell_type": "code",
   "execution_count": null,
   "id": "19416167-de5c-458c-b944-a7f477e8aa7a",
   "metadata": {},
   "outputs": [],
   "source": [
    "!git commit -m \"\""
   ]
  },
  {
   "cell_type": "code",
   "execution_count": null,
   "id": "390df3df-13f9-4e3b-ae5e-7b2c09158c6a",
   "metadata": {},
   "outputs": [],
   "source": [
    "!git push"
   ]
  },
  {
   "cell_type": "code",
   "execution_count": null,
   "id": "6cc385ac-4a81-46c2-80b3-5d7dc7f10ec1",
   "metadata": {},
   "outputs": [],
   "source": []
  },
  {
   "cell_type": "code",
   "execution_count": null,
   "id": "3aba6199-0e9f-430b-97df-e821996af1f8",
   "metadata": {},
   "outputs": [],
   "source": []
  },
  {
   "cell_type": "code",
   "execution_count": null,
   "id": "f69f8820-6bd3-43e1-b638-a2e0d40fe2bf",
   "metadata": {},
   "outputs": [],
   "source": []
  }
 ],
 "metadata": {
  "kernelspec": {
   "display_name": "Python 3 (ipykernel)",
   "language": "python",
   "name": "python3"
  },
  "language_info": {
   "codemirror_mode": {
    "name": "ipython",
    "version": 3
   },
   "file_extension": ".py",
   "mimetype": "text/x-python",
   "name": "python",
   "nbconvert_exporter": "python",
   "pygments_lexer": "ipython3",
   "version": "3.8.18"
  }
 },
 "nbformat": 4,
 "nbformat_minor": 5
}
